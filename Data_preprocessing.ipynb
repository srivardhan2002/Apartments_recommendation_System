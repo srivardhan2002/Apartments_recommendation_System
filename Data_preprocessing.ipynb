{
 "cells": [
  {
   "cell_type": "markdown",
   "id": "458bc04b-594e-4039-be47-17f28417cdba",
   "metadata": {},
   "source": [
    "# Data Cleaning"
   ]
  },
  {
   "cell_type": "markdown",
   "id": "4985f7c7-2756-4991-8d2a-d7881be49122",
   "metadata": {},
   "source": [
    "This notebook will focus on the preprocessing of the datasets before using them in recommendation system (Content-based) I will be developing later on."
   ]
  },
  {
   "cell_type": "code",
   "execution_count": 2,
   "id": "948fa729-4696-43ae-94dd-4cdc6d58f752",
   "metadata": {},
   "outputs": [],
   "source": [
    "# importing libraries\n",
    "import pandas as pd\n",
    "import matplotlib.pyplot as plt\n",
    "import numpy as np"
   ]
  },
  {
   "cell_type": "markdown",
   "id": "488f7f47-9039-4e02-a7a5-d06075c828a8",
   "metadata": {},
   "source": [
    "### Apartments Dataset"
   ]
  },
  {
   "cell_type": "markdown",
   "id": "28d89c13-1821-4742-939b-141ba65033ac",
   "metadata": {},
   "source": [
    "Keys:\n",
    "- Apartment_id: Unique id identifying an apartment\n",
    "- Posted On: Date on which the entry is made\n",
    "- BHK: Number of Bedrooms, Hall, Kitchen.\n",
    "- Rent: Rent of the Houses/Apartments/Flats.\n",
    "- Size: Size of the Houses/Apartments/Flats in Square Feet.\n",
    "- Floor: Houses/Apartments/Flats situated in which Floor and Total Number of Floors (Example: Ground out of 2, 3 out of 5, etc.)\n",
    "- Area Type: Size of the Houses/Apartments/Flats calculated on either Super Area or Carpet Area or Build Area.\n",
    "- Area Locality: Locality of the Houses/Apartments/Flats.\n",
    "- City: City where the Houses/Apartments/Flats are Located.\n",
    "- Furnishing Status: Furnishing Status of the Houses/Apartments/Flats, either it is Furnished or Semi-Furnished or Unfurnished.\n",
    "- Tenant Preferred: Type of Tenant Preferred by the Owner or Agent.\n",
    "- Bathroom: Number of Bathrooms.\n",
    "- Point of Contact: Whom should you contact for more information regarding the Houses/Apartments/Flats."
   ]
  },
  {
   "cell_type": "code",
   "execution_count": 3,
   "id": "b4e10dc0-13ec-454a-9fec-51e42ab2df74",
   "metadata": {},
   "outputs": [
    {
     "data": {
      "text/html": [
       "<div>\n",
       "<style scoped>\n",
       "    .dataframe tbody tr th:only-of-type {\n",
       "        vertical-align: middle;\n",
       "    }\n",
       "\n",
       "    .dataframe tbody tr th {\n",
       "        vertical-align: top;\n",
       "    }\n",
       "\n",
       "    .dataframe thead th {\n",
       "        text-align: right;\n",
       "    }\n",
       "</style>\n",
       "<table border=\"1\" class=\"dataframe\">\n",
       "  <thead>\n",
       "    <tr style=\"text-align: right;\">\n",
       "      <th></th>\n",
       "      <th>Apartment_id</th>\n",
       "      <th>Posted On</th>\n",
       "      <th>BHK</th>\n",
       "      <th>Rent</th>\n",
       "      <th>Size</th>\n",
       "      <th>Floor</th>\n",
       "      <th>Area Type</th>\n",
       "      <th>Area Locality</th>\n",
       "      <th>City</th>\n",
       "      <th>Furnishing Status</th>\n",
       "      <th>Tenant Preferred</th>\n",
       "      <th>Bathroom</th>\n",
       "      <th>Point of Contact</th>\n",
       "    </tr>\n",
       "  </thead>\n",
       "  <tbody>\n",
       "    <tr>\n",
       "      <th>0</th>\n",
       "      <td>1</td>\n",
       "      <td>18-05-2022</td>\n",
       "      <td>2</td>\n",
       "      <td>10000</td>\n",
       "      <td>1100.0</td>\n",
       "      <td>Ground out of 2</td>\n",
       "      <td>Super Area</td>\n",
       "      <td>Bandel</td>\n",
       "      <td>Kolkata</td>\n",
       "      <td>Unfurnished</td>\n",
       "      <td>Bachelors/Family</td>\n",
       "      <td>2</td>\n",
       "      <td>Contact Owner</td>\n",
       "    </tr>\n",
       "    <tr>\n",
       "      <th>1</th>\n",
       "      <td>2</td>\n",
       "      <td>13-05-2022</td>\n",
       "      <td>2</td>\n",
       "      <td>20000</td>\n",
       "      <td>800.0</td>\n",
       "      <td>1 out of 3</td>\n",
       "      <td>Super Area</td>\n",
       "      <td>Phool Bagan, Kankurgachi</td>\n",
       "      <td>Kolkata</td>\n",
       "      <td>Semi-Furnished</td>\n",
       "      <td>Bachelors/Family</td>\n",
       "      <td>1</td>\n",
       "      <td>Contact Owner</td>\n",
       "    </tr>\n",
       "    <tr>\n",
       "      <th>2</th>\n",
       "      <td>3</td>\n",
       "      <td>16-05-2022</td>\n",
       "      <td>2</td>\n",
       "      <td>17000</td>\n",
       "      <td>1000.0</td>\n",
       "      <td>1 out of 3</td>\n",
       "      <td>Super Area</td>\n",
       "      <td>Salt Lake City Sector 2</td>\n",
       "      <td>Kolkata</td>\n",
       "      <td>Semi-Furnished</td>\n",
       "      <td>Bachelors/Family</td>\n",
       "      <td>1</td>\n",
       "      <td>Contact Owner</td>\n",
       "    </tr>\n",
       "    <tr>\n",
       "      <th>3</th>\n",
       "      <td>4</td>\n",
       "      <td>04-07-2022</td>\n",
       "      <td>2</td>\n",
       "      <td>10000</td>\n",
       "      <td>800.0</td>\n",
       "      <td>1 out of 2</td>\n",
       "      <td>Super Area</td>\n",
       "      <td>Dumdum Park</td>\n",
       "      <td>Kolkata</td>\n",
       "      <td>NaN</td>\n",
       "      <td>Bachelors/Family</td>\n",
       "      <td>1</td>\n",
       "      <td>Contact Owner</td>\n",
       "    </tr>\n",
       "    <tr>\n",
       "      <th>4</th>\n",
       "      <td>5</td>\n",
       "      <td>09-05-2022</td>\n",
       "      <td>2</td>\n",
       "      <td>7500</td>\n",
       "      <td>850.0</td>\n",
       "      <td>1 out of 2</td>\n",
       "      <td>Carpet Area</td>\n",
       "      <td>South Dum Dum</td>\n",
       "      <td>Kolkata</td>\n",
       "      <td>Unfurnished</td>\n",
       "      <td>Bachelors</td>\n",
       "      <td>1</td>\n",
       "      <td>Contact Owner</td>\n",
       "    </tr>\n",
       "  </tbody>\n",
       "</table>\n",
       "</div>"
      ],
      "text/plain": [
       "   Apartment_id   Posted On  BHK   Rent    Size            Floor    Area Type  \\\n",
       "0             1  18-05-2022    2  10000  1100.0  Ground out of 2   Super Area   \n",
       "1             2  13-05-2022    2  20000   800.0       1 out of 3   Super Area   \n",
       "2             3  16-05-2022    2  17000  1000.0       1 out of 3   Super Area   \n",
       "3             4  04-07-2022    2  10000   800.0       1 out of 2   Super Area   \n",
       "4             5  09-05-2022    2   7500   850.0       1 out of 2  Carpet Area   \n",
       "\n",
       "              Area Locality     City Furnishing Status  Tenant Preferred  \\\n",
       "0                    Bandel  Kolkata       Unfurnished  Bachelors/Family   \n",
       "1  Phool Bagan, Kankurgachi  Kolkata    Semi-Furnished  Bachelors/Family   \n",
       "2   Salt Lake City Sector 2  Kolkata    Semi-Furnished  Bachelors/Family   \n",
       "3               Dumdum Park  Kolkata               NaN  Bachelors/Family   \n",
       "4             South Dum Dum  Kolkata       Unfurnished         Bachelors   \n",
       "\n",
       "   Bathroom Point of Contact  \n",
       "0         2    Contact Owner  \n",
       "1         1    Contact Owner  \n",
       "2         1    Contact Owner  \n",
       "3         1    Contact Owner  \n",
       "4         1    Contact Owner  "
      ]
     },
     "execution_count": 3,
     "metadata": {},
     "output_type": "execute_result"
    }
   ],
   "source": [
    "#Load apartment dataset\n",
    "apartments_df = pd.read_csv(\"datasets/House_Rent_Dataset.csv\")\n",
    "apartments_df.head()"
   ]
  },
  {
   "cell_type": "code",
   "execution_count": 4,
   "id": "fcb78ca1-56c2-48d1-8c30-b0c5945398f8",
   "metadata": {},
   "outputs": [
    {
     "data": {
      "text/plain": [
       "(4746, 13)"
      ]
     },
     "execution_count": 4,
     "metadata": {},
     "output_type": "execute_result"
    }
   ],
   "source": [
    "# number of rows and columns in the dataframe\n",
    "apartments_df.shape"
   ]
  },
  {
   "cell_type": "code",
   "execution_count": 5,
   "id": "e76fc711-83b0-45a7-acb1-0d439d70d586",
   "metadata": {},
   "outputs": [
    {
     "data": {
      "text/plain": [
       "Apartment_id           int64\n",
       "Posted On             object\n",
       "BHK                    int64\n",
       "Rent                   int64\n",
       "Size                 float64\n",
       "Floor                 object\n",
       "Area Type             object\n",
       "Area Locality         object\n",
       "City                  object\n",
       "Furnishing Status     object\n",
       "Tenant Preferred      object\n",
       "Bathroom               int64\n",
       "Point of Contact      object\n",
       "dtype: object"
      ]
     },
     "execution_count": 5,
     "metadata": {},
     "output_type": "execute_result"
    }
   ],
   "source": [
    "# are the columns using suitable datatypes\n",
    "apartments_df.dtypes"
   ]
  },
  {
   "cell_type": "code",
   "execution_count": 6,
   "id": "31cd3c8d-f86f-4e74-9afd-3a60c578b307",
   "metadata": {},
   "outputs": [],
   "source": [
    "#Replacing the unknown values with nan.\n",
    "apartments_df.replace({'Tenant Preferred': {'unknown': np.nan}}, inplace=True)"
   ]
  },
  {
   "cell_type": "code",
   "execution_count": 7,
   "id": "cf43fcc0-0302-495d-822b-c584f5bf2c43",
   "metadata": {},
   "outputs": [
    {
     "data": {
      "text/plain": [
       "Apartment_id         False\n",
       "Posted On            False\n",
       "BHK                  False\n",
       "Rent                 False\n",
       "Size                  True\n",
       "Floor                False\n",
       "Area Type             True\n",
       "Area Locality        False\n",
       "City                 False\n",
       "Furnishing Status     True\n",
       "Tenant Preferred      True\n",
       "Bathroom             False\n",
       "Point of Contact     False\n",
       "dtype: bool"
      ]
     },
     "execution_count": 7,
     "metadata": {},
     "output_type": "execute_result"
    }
   ],
   "source": [
    "# Check which columns have missing values\n",
    "apartments_df.isnull().any()"
   ]
  },
  {
   "cell_type": "code",
   "execution_count": 8,
   "id": "9ff0382f-5a1c-481e-b2de-676b59260521",
   "metadata": {},
   "outputs": [
    {
     "name": "stdout",
     "output_type": "stream",
     "text": [
      "size of dataframe: (4746, 13)\n"
     ]
    },
    {
     "data": {
      "text/plain": [
       "Apartment_id           0\n",
       "Posted On              0\n",
       "BHK                    0\n",
       "Rent                   0\n",
       "Size                 171\n",
       "Floor                  0\n",
       "Area Type             40\n",
       "Area Locality          0\n",
       "City                   0\n",
       "Furnishing Status     52\n",
       "Tenant Preferred      95\n",
       "Bathroom               0\n",
       "Point of Contact       0\n",
       "dtype: int64"
      ]
     },
     "execution_count": 8,
     "metadata": {},
     "output_type": "execute_result"
    }
   ],
   "source": [
    "# How many missing values do we have for each column?\n",
    "print('size of dataframe:',apartments_df.shape)\n",
    "apartments_df.isnull().sum()"
   ]
  },
  {
   "cell_type": "code",
   "execution_count": 9,
   "id": "0ad3dfdd-e811-4c26-a903-6c1b36222dea",
   "metadata": {},
   "outputs": [
    {
     "data": {
      "text/plain": [
       "(4397, 13)"
      ]
     },
     "execution_count": 9,
     "metadata": {},
     "output_type": "execute_result"
    }
   ],
   "source": [
    "#drop the rows with nan values\n",
    "apartments_df.dropna(inplace = True)\n",
    "apartments_df.shape"
   ]
  },
  {
   "cell_type": "code",
   "execution_count": 10,
   "id": "5da4b1e0-ea85-46e2-a0a7-475f9297e88f",
   "metadata": {},
   "outputs": [
    {
     "name": "stdout",
     "output_type": "stream",
     "text": [
      "size of dataframe: (4397, 13)\n"
     ]
    },
    {
     "data": {
      "text/plain": [
       "Apartment_id         0\n",
       "Posted On            0\n",
       "BHK                  0\n",
       "Rent                 0\n",
       "Size                 0\n",
       "Floor                0\n",
       "Area Type            0\n",
       "Area Locality        0\n",
       "City                 0\n",
       "Furnishing Status    0\n",
       "Tenant Preferred     0\n",
       "Bathroom             0\n",
       "Point of Contact     0\n",
       "dtype: int64"
      ]
     },
     "execution_count": 10,
     "metadata": {},
     "output_type": "execute_result"
    }
   ],
   "source": [
    "# How many missing values do we have for each column?\n",
    "print('size of dataframe:',apartments_df.shape)\n",
    "apartments_df.isnull().sum()"
   ]
  },
  {
   "cell_type": "markdown",
   "id": "c99349f2-787b-44cc-93ef-f6a98759afce",
   "metadata": {},
   "source": [
    "### Tenent Review Dataset"
   ]
  },
  {
   "cell_type": "markdown",
   "id": "a25f00fb-c873-4845-995c-a216fdd003ba",
   "metadata": {},
   "source": [
    "Keys:\n",
    "- tenant_id - non identifiable randomly generated user id.\n",
    "- anime_id - apartment that tenant previously stayed in.\n",
    "- rating - rating out of 10 this tenant has assigned."
   ]
  },
  {
   "cell_type": "code",
   "execution_count": 11,
   "id": "933baf6e-61b6-422b-8de4-e597141f0dc4",
   "metadata": {},
   "outputs": [
    {
     "data": {
      "text/html": [
       "<div>\n",
       "<style scoped>\n",
       "    .dataframe tbody tr th:only-of-type {\n",
       "        vertical-align: middle;\n",
       "    }\n",
       "\n",
       "    .dataframe tbody tr th {\n",
       "        vertical-align: top;\n",
       "    }\n",
       "\n",
       "    .dataframe thead th {\n",
       "        text-align: right;\n",
       "    }\n",
       "</style>\n",
       "<table border=\"1\" class=\"dataframe\">\n",
       "  <thead>\n",
       "    <tr style=\"text-align: right;\">\n",
       "      <th></th>\n",
       "      <th>tenant_id</th>\n",
       "      <th>Apartment_id</th>\n",
       "      <th>rating</th>\n",
       "    </tr>\n",
       "  </thead>\n",
       "  <tbody>\n",
       "    <tr>\n",
       "      <th>0</th>\n",
       "      <td>1</td>\n",
       "      <td>2731</td>\n",
       "      <td>10.0</td>\n",
       "    </tr>\n",
       "    <tr>\n",
       "      <th>1</th>\n",
       "      <td>1</td>\n",
       "      <td>2762</td>\n",
       "      <td>9.0</td>\n",
       "    </tr>\n",
       "    <tr>\n",
       "      <th>2</th>\n",
       "      <td>1</td>\n",
       "      <td>2479</td>\n",
       "      <td>6.0</td>\n",
       "    </tr>\n",
       "    <tr>\n",
       "      <th>3</th>\n",
       "      <td>1</td>\n",
       "      <td>43</td>\n",
       "      <td>10.0</td>\n",
       "    </tr>\n",
       "    <tr>\n",
       "      <th>4</th>\n",
       "      <td>2</td>\n",
       "      <td>2652</td>\n",
       "      <td>9.0</td>\n",
       "    </tr>\n",
       "  </tbody>\n",
       "</table>\n",
       "</div>"
      ],
      "text/plain": [
       "   tenant_id  Apartment_id  rating\n",
       "0          1          2731    10.0\n",
       "1          1          2762     9.0\n",
       "2          1          2479     6.0\n",
       "3          1            43    10.0\n",
       "4          2          2652     9.0"
      ]
     },
     "execution_count": 11,
     "metadata": {},
     "output_type": "execute_result"
    }
   ],
   "source": [
    "#loading tenants dataframe\n",
    "tenant_df = pd.read_csv(\"Datasets/Tenants_Review_Dataset.csv\")\n",
    "tenant_df.head()"
   ]
  },
  {
   "cell_type": "code",
   "execution_count": 12,
   "id": "84aa46cf-748c-42f1-aceb-366d5205a2ec",
   "metadata": {},
   "outputs": [
    {
     "data": {
      "text/plain": [
       "(1727, 3)"
      ]
     },
     "execution_count": 12,
     "metadata": {},
     "output_type": "execute_result"
    }
   ],
   "source": [
    "# number of rows and columns in the dataframe\n",
    "tenant_df.shape"
   ]
  },
  {
   "cell_type": "code",
   "execution_count": 13,
   "id": "f27f7708-5062-424e-8a0c-31923220d4b3",
   "metadata": {},
   "outputs": [
    {
     "data": {
      "text/plain": [
       "array([ 6.,  7.,  8.,  9., 10., nan])"
      ]
     },
     "execution_count": 13,
     "metadata": {},
     "output_type": "execute_result"
    }
   ],
   "source": [
    "#checking the values that are present in rating column\n",
    "rating_arr = np.unique(tenant_df['rating'])\n",
    "rating_arr"
   ]
  },
  {
   "cell_type": "code",
   "execution_count": 14,
   "id": "4c7f861a-2b9d-478c-804b-b80ab78da89a",
   "metadata": {},
   "outputs": [
    {
     "data": {
      "text/plain": [
       "tenant_id       False\n",
       "Apartment_id    False\n",
       "rating           True\n",
       "dtype: bool"
      ]
     },
     "execution_count": 14,
     "metadata": {},
     "output_type": "execute_result"
    }
   ],
   "source": [
    "# Check which columns have missing values\n",
    "tenant_df.isnull().any()"
   ]
  },
  {
   "cell_type": "code",
   "execution_count": 15,
   "id": "4c276978-fa8a-4dac-bdf0-141a9677fce2",
   "metadata": {},
   "outputs": [
    {
     "data": {
      "text/plain": [
       "tenant_id        0\n",
       "Apartment_id     0\n",
       "rating          49\n",
       "dtype: int64"
      ]
     },
     "execution_count": 15,
     "metadata": {},
     "output_type": "execute_result"
    }
   ],
   "source": [
    "# How many missing values do we have for each column?\n",
    "tenant_df.isnull().sum()"
   ]
  },
  {
   "cell_type": "code",
   "execution_count": 16,
   "id": "41707a26-f073-48f8-8ba9-b927207f16a5",
   "metadata": {},
   "outputs": [
    {
     "data": {
      "text/plain": [
       "(1678, 3)"
      ]
     },
     "execution_count": 16,
     "metadata": {},
     "output_type": "execute_result"
    }
   ],
   "source": [
    "#drop the rows with nan values\n",
    "tenant_df.dropna(inplace = True)\n",
    "tenant_df.shape"
   ]
  },
  {
   "cell_type": "code",
   "execution_count": 17,
   "id": "af409245-2300-4f71-a12a-b7572e56dffd",
   "metadata": {},
   "outputs": [
    {
     "name": "stdout",
     "output_type": "stream",
     "text": [
      "size of dataframe: (1678, 3)\n"
     ]
    },
    {
     "data": {
      "text/plain": [
       "tenant_id       0\n",
       "Apartment_id    0\n",
       "rating          0\n",
       "dtype: int64"
      ]
     },
     "execution_count": 17,
     "metadata": {},
     "output_type": "execute_result"
    }
   ],
   "source": [
    "# How many missing values do we have for each column?\n",
    "print('size of dataframe:',tenant_df.shape)\n",
    "tenant_df.isnull().sum()"
   ]
  },
  {
   "cell_type": "markdown",
   "id": "a1a6cd27-afba-4c3f-a44f-2159f19f0d6f",
   "metadata": {},
   "source": [
    "### Export Dataframes to CSV"
   ]
  },
  {
   "cell_type": "code",
   "execution_count": 18,
   "id": "440ffcbd-e149-4954-8b41-a0da5d545eb6",
   "metadata": {},
   "outputs": [],
   "source": [
    "apartments_df.to_csv(\"Datasets/Cleaned_House_Rent_Dataset.csv\", index = False)\n",
    "tenant_df.to_csv(\"Datasets/Cleaned_Tenants_Review_Dataset.csv\", index = False)"
   ]
  }
 ],
 "metadata": {
  "kernelspec": {
   "display_name": "Python 3 (ipykernel)",
   "language": "python",
   "name": "python3"
  },
  "language_info": {
   "codemirror_mode": {
    "name": "ipython",
    "version": 3
   },
   "file_extension": ".py",
   "mimetype": "text/x-python",
   "name": "python",
   "nbconvert_exporter": "python",
   "pygments_lexer": "ipython3",
   "version": "3.11.8"
  }
 },
 "nbformat": 4,
 "nbformat_minor": 5
}
